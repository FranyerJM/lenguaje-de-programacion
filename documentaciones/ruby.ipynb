{
 "cells": [
  {
   "cell_type": "markdown",
   "id": "8e30b73b",
   "metadata": {},
   "source": [
    "# Documentación de Ruby (by Franyer Marin, C.I: 32.293.396)\n",
    "\n",
    "Esta es una guía básica de Ruby. Ruby es un lenguaje enfocado en la simplicidad y la productividad. Su elegante sintaxis es natural de leer y fácil de escribir.\n",
    "\n",
    "## 1. Breve Historia, Usos y Poder de Ruby\n",
    "\n",
    "### Historia\n",
    "Ruby fue creado por **Yukihiro \"Matz\" Matsumoto** en Japón a mediados de la década de 1990 (lanzado en 1995). Matz quería un lenguaje que fuera verdaderamente orientado a objetos y fácil de usar, un lenguaje que lo hiciera feliz al programar.\n",
    "\n",
    "Su filosofía principal es el **\"Principio de la Menor Sorpresa\"** (Principle of Least Astonishment): el lenguaje debe comportarse de la manera que el programador espera, priorizando la **felicidad del desarrollador** por encima del rendimiento de la máquina.\n",
    "\n",
    "### Usos Comunes\n",
    "Ruby es un lenguaje de propósito general, pero brilla absolutamente en el **desarrollo web backend**.\n",
    "\n",
    "* **Ruby on Rails:** Es la \"aplicación estrella\" de Ruby. Es un framework web que revolucionó la industria en la década de 2000 con su enfoque \"Convención sobre Configuración\", permitiendo desarrollar aplicaciones complejas increíblemente rápido. (Sitios como GitHub, Shopify, Airbnb y Twitch se construyeron originalmente con Rails).\n",
    "* **Scripting y Automatización:** Su sintaxis limpia lo hace perfecto para escribir scripts de sistema (similar a Python o Perl).\n",
    "* **Generadores de Sitios Estáticos:** El generador más popular, **Jekyll**, está hecho en Ruby.\n",
    "\n",
    "### El Poder de Ruby\n",
    "El poder de Ruby no viene de su velocidad bruta, sino de su elegancia y su poderoso ecosistema:\n",
    "\n",
    "1.  **Sintaxis Elegante:** Es famoso por ser legible casi como el idioma inglés. Es limpio y no requiere punto y coma (`;`).\n",
    "2.  **Todo es un Objeto:** A diferencia de otros lenguajes, en Ruby *todo* es un objeto (incluidos los números y los booleanos). Esto permite una consistencia increíble (ej. `5.times { ... }`).\n",
    "3.  **Metaprogramación:** Ruby es famoso por su capacidad de \"escribir código que escribe código\", lo que permite a frameworks como Rails hacer su magia.\n",
    "4.  **RubyGems y Bundler:** Su manejador de paquetes (`gem`) y gestor de dependencias (`bundler`) son de los mejores que existen.\n",
    "5.  **Comunidad Madura:** La comunidad de Ruby (especialmente la de Rails) está muy enfocada en las buenas prácticas, como el \"Testing\" (pruebas de software)."
   ]
  },
  {
   "cell_type": "markdown",
   "id": "65525828",
   "metadata": {},
   "source": [
    "## 2. Fundamentos Básicos de Ruby\n",
    "\n",
    "Vamos con el codigo:\n",
    "\n",
    "*(Nota: Para imprimir en la consola, usamos `puts` (que significa \"put string\" y agrega una línea nueva) o `print` (que no la agrega).)*"
   ]
  },
  {
   "cell_type": "code",
   "execution_count": null,
   "id": "9617c1c2",
   "metadata": {
    "vscode": {
     "languageId": "ruby"
    }
   },
   "outputs": [],
   "source": [
    "puts \"¡Hola, Mundo desde Jupyter!\"\n",
    "puts \"Esta es la segunda línea.\""
   ]
  },
  {
   "cell_type": "markdown",
   "id": "bf30d6ec",
   "metadata": {},
   "source": [
    "### Variables y Tipos de Datos\n",
    "Las variables en Ruby no usan ningún símbolo especial. La convención es usar `snake_case` (todo en minúsculas, separado por guiones bajos). Ruby también es de tipado dinámico.\n",
    "\n",
    "* `String`: Texto.\n",
    "* `Integer`: Números enteros.\n",
    "* `Float`: Números decimales.\n",
    "* `Boolean`: Verdadero o Falso (`true` / `false`).\n",
    "* `nil`: Representa \"la ausencia de valor\" (muy importante en Ruby).\n",
    "\n",
    "Para unir strings, la forma preferida no es `+`, sino la **interpolación** con `#{}` dentro de comillas dobles."
   ]
  },
  {
   "cell_type": "code",
   "execution_count": null,
   "id": "e1c495df",
   "metadata": {
    "vscode": {
     "languageId": "ruby"
    }
   },
   "outputs": [],
   "source": [
    "nombre = \"Franyer\" # String\n",
    "carrera = \"Ing. en Computación\"\n",
    "semestre = 7       # Integer\n",
    "promedio = 18.5    # Float\n",
    "es_estudiante = true # Boolean\n",
    "sin_valor = nil    # Nil\n",
    "\n",
    "# La interpolación solo funciona con comillas dobles \"\"\n",
    "puts \"Estudiante: #{nombre}\"\n",
    "puts \"Carrera: #{carrera}\"\n",
    "puts \"Semestre: #{semestre}\"\n",
    "\n",
    "# `p` es un atajo de `puts var.inspect`, y es genial para depurar.\n",
    "# Nos muestra el tipo de dato y su valor.\n",
    "p promedio\n",
    "p es_estudiante\n",
    "p sin_valor"
   ]
  },
  {
   "cell_type": "markdown",
   "id": "cd90a590",
   "metadata": {},
   "source": [
    "### Arrays (Arreglos) y Hashes (Diccionarios)\n",
    "Ruby tiene dos estructuras de colección principales:\n",
    "\n",
    "1.  **Array:** Una lista ordenada de valores, indexada por números (empezando en 0).\n",
    "2.  **Hash:** Una colección de pares clave-valor (como un array asociativo en PHP o un diccionario en Python)."
   ]
  },
  {
   "cell_type": "code",
   "execution_count": null,
   "id": "b1c5c883",
   "metadata": {
    "vscode": {
     "languageId": "ruby"
    }
   },
   "outputs": [],
   "source": [
    "# 1. Array\n",
    "lenguajes = [\"Python\", \"Java\", \"Ruby\", \"Go\"]\n",
    "\n",
    "puts \"El lenguaje en el índice 2 es: #{lenguajes[2]}\" # Imprime 'Ruby'\n",
    "puts \"\" # Línea en blanco\n",
    "\n",
    "# 2. Hash\n",
    "# La sintaxis moderna (Ruby 1.9+) usa \"Símbolos\" (ej. :nombre)\n",
    "# como claves. Es más limpio y eficiente.\n",
    "estudiante = {\n",
    "    nombre: \"Rachel\",\n",
    "    carrera: \"Diseño Gráfico\",\n",
    "    semestre: 8,\n",
    "    activa: true\n",
    "}\n",
    "\n",
    "# Se accede a los valores usando el Símbolo\n",
    "puts \"La carrera de Rachel es: #{estudiante[:carrera]}\"\n",
    "puts \"\"\n",
    "\n",
    "# `p` también es genial para imprimir Hashes y Arrays\n",
    "puts \"Contenido del Hash estudiante:\"\n",
    "p estudiante"
   ]
  },
  {
   "cell_type": "markdown",
   "id": "8d1e1b90",
   "metadata": {},
   "source": [
    "### Estructuras de Control (if / else / elsif)\n",
    "Se usan para tomar decisiones. En Ruby, todo bloque de código (como `if`, `def`, `while`) debe cerrarse con la palabra clave `end`.\n",
    "\n",
    "(Nota: Se escribe `elsif`, no `elseif`)."
   ]
  },
  {
   "cell_type": "code",
   "execution_count": null,
   "id": "0190feec",
   "metadata": {
    "vscode": {
     "languageId": "ruby"
    }
   },
   "outputs": [],
   "source": [
    "edad = 18\n",
    "\n",
    "if edad >= 21\n",
    "  puts \"Puedes beber en USA.\"\n",
    "elsif edad >= 18\n",
    "  puts \"Eres mayor de edad en Venezuela.\"\n",
    "else\n",
    "  puts \"Eres menor de edad.\"\n",
    "end\n",
    "\n",
    "# Operador Ternario (funciona igual que en PHP)\n",
    "permiso = (edad >= 18) ? \"Tiene permiso\" : \"No tiene permiso\"\n",
    "puts permiso"
   ]
  },
  {
   "cell_type": "markdown",
   "id": "15a5b5a4",
   "metadata": {},
   "source": [
    "### Iteradores (Loops)\n",
    "Ruby tiene bucles `while` y `for`, pero la forma \"Ruby\" de hacer las cosas es usando **Iteradores**.\n",
    "\n",
    "El más común es `.each`. Es un *método* que llamas sobre un Array o un Hash y le pasas un bloque de código (ya sea con `do ... end` o con `{ ... }`)."
   ]
  },
  {
   "cell_type": "code",
   "execution_count": null,
   "id": "a37f92e8",
   "metadata": {
    "vscode": {
     "languageId": "ruby"
    }
   },
   "outputs": [],
   "source": [
    "lenguajes = [\"PHP\", \"Go\", \"Ruby\"]\n",
    "\n",
    "# Iterador '.each' con un bloque do...end\n",
    "puts \"Iterador .each (largo):\"\n",
    "lenguajes.each do |lang|\n",
    "  puts \"- #{lang}\"\n",
    "end\n",
    "\n",
    "# Iterador '.each' con un bloque { ... } (para una sola línea)\n",
    "puts \"\\nIterador .each (corto):\"\n",
    "lenguajes.each { |lang| puts \"* #{lang}\" }\n",
    "\n",
    "\n",
    "# Iterador .each para un Hash\n",
    "puts \"\\nIterador .each para un Hash:\"\n",
    "estudiante = { nombre: \"Franyer\", carrera: \"Computación\" }\n",
    "estudiante.each do |clave, valor|\n",
    "  puts \"#{clave} = #{valor}\"\n",
    "end"
   ]
  },
  {
   "cell_type": "markdown",
   "id": "da50e323",
   "metadata": {},
   "source": [
    "### Métodos (Funciones)\n",
    "En Ruby, las funciones se llaman **Métodos**. Se definen con `def` y se terminan con `end`.\n",
    "\n",
    "Una característica clave de Ruby es el **retorno implícito**: un método devuelve automáticamente el valor de la *última línea* ejecutada, por lo que la palabra `return` casi nunca se usa."
   ]
  },
  {
   "cell_type": "code",
   "execution_count": null,
   "id": "92872e6b",
   "metadata": {
    "vscode": {
     "languageId": "ruby"
    }
   },
   "outputs": [],
   "source": [
    "# Definimos un método simple\n",
    "def saludar(nombre)\n",
    "  # No se necesita 'return'. Esta es la última línea,\n",
    "  # así que su valor se devuelve automáticamente.\n",
    "  \"Hola, #{nombre}, bienvenido.\"\n",
    "end\n",
    "\n",
    "# Lo llamamos (los paréntesis son opcionales si no hay ambigüedad)\n",
    "saludo = saludar \"Franyer\"\n",
    "puts saludo\n",
    "puts \"\"\n",
    "\n",
    "\n",
    "# Método con retorno implícito de una operación\n",
    "def sumar(a, b)\n",
    "  a + b # Esta suma es la última línea, su resultado se devuelve.\n",
    "end\n",
    "\n",
    "resultado = sumar(20, 10)\n",
    "puts \"El resultado de la suma es: #{resultado}\""
   ]
  }
 ],
 "metadata": {
  "language_info": {
   "name": "python"
  }
 },
 "nbformat": 4,
 "nbformat_minor": 5
}
