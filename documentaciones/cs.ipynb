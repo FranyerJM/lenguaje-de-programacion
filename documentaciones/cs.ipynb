{
 "cells": [
  {
   "cell_type": "markdown",
   "id": "f421bec2",
   "metadata": {},
   "source": [
    "# Documentación de C# (by Franyer Marin, C.I: 32.293.396)\n",
    "\n",
    "Esta es una guía básica de C# (pronunciado \"C-Sharp\"). Es un lenguaje moderno, multi-propósito, fuertemente tipado y orientado a objetos, diseñado para construir aplicaciones robustas y de alto rendimiento.\n",
    "\n",
    "## 1. Breve Historia, Usos y Poder de C#\n",
    "\n",
    "### Historia\n",
    "C# fue desarrollado por **Microsoft** alrededor del año 2000 como parte de su iniciativa **.NET Framework**. Su arquitecto principal fue **Anders Hejlsberg** (quien también creó Turbo Pascal y Delphi).\n",
    "\n",
    "Nació como una respuesta directa a Java, con el objetivo de ser un lenguaje que combinara la potencia de C++ con la simplicidad de desarrollo de Visual Basic. Originalmente estaba atado a Windows, pero con la llegada de **.NET Core** (ahora solo **.NET**), se ha transformado en un lenguaje completamente **multi-plataforma** (Windows, macOS, Linux).\n",
    "\n",
    "### Usos Comunes\n",
    "C# es un \"todo terreno\" de la programación. Se usa para:\n",
    "* **Desarrollo Web Backend:** Su framework **ASP.NET Core** es uno de los más rápidos y potentes del mundo, compitiendo con Node.js, Spring (Java) y Laravel (PHP).\n",
    "* **Desarrollo de Videojuegos:** Es el lenguaje principal de **Unity**, el motor de juegos más popular del mundo, usado para crear desde juegos indie hasta títulos AAA.\n",
    "* **Aplicaciones de Escritorio:** (WPF, WinForms) y aplicaciones móviles multi-plataforma (Xamarin / .NET MAUI).\n",
    "* **Aplicaciones Empresariales:** Es una opción predilecta en el mundo corporativo para construir sistemas grandes y mantenibles.\n",
    "* **Servicios en la Nube:** Especialmente en la plataforma Azure de Microsoft.\n",
    "\n",
    "### El Poder de C#\n",
    "El poder de C# reside en su balance entre potencia, seguridad y productividad:\n",
    "1.  **Tipado Estático (Fuertemente Tipado):** Este es su mayor superpoder. El compilador revisa tu código y detecta errores de tipo *antes* de que el programa se ejecute. Esto es invaluable para proyectos grandes.\n",
    "2.  **Rendimiento:** Es un lenguaje compilado (no interpretado como PHP o Ruby), lo que resulta en una velocidad de ejecución extremadamente alta.\n",
    "3.  **Ecosistema .NET:** Tiene una biblioteca estándar masiva, miles de paquetes (NuGet) y el respaldo total de Microsoft.\n",
    "4.  **Lenguaje Moderno:** Incluye características de alto nivel como **LINQ** (para consultar colecciones como si fueran bases de datos) y **async/await** (para manejar asincronía de forma limpia).\n",
    "5.  **Herramientas (Tooling):** El IDE **Visual Studio** (y su integración con VS Code) ofrece una de las mejores experiencias de desarrollo (depuración, autocompletado, refactorización) que existen."
   ]
  },
  {
   "cell_type": "markdown",
   "id": "55bbb111",
   "metadata": {},
   "source": [
    "## 2. Fundamentos Básicos de C#\n",
    "\n",
    "A partir de aquí, cada celda de código es un ejemplo ejecutable.\n",
    "\n",
    "*(Nota: Para mostrar texto en la consola, usamos el método `Console.WriteLine()`. A diferencia de PHP o Ruby, C# requiere un punto y coma `;` al final de casi todas las sentencias.)*\n",
    "\n",
    "*(Los notebooks modernos de .NET Interactive usan \"Top-Level Statements\", por lo que no necesitamos escribir la estructura `class Program { public static void Main() { ... } }` para estos ejemplos básicos.)*"
   ]
  },
  {
   "cell_type": "code",
   "execution_count": null,
   "id": "3785805b",
   "metadata": {
    "vscode": {
     "languageId": "plaintext"
    }
   },
   "outputs": [],
   "source": [
    "Console.WriteLine(\"¡Hola, Mundo desde Jupyter!\");\n",
    "Console.WriteLine(\"Esta es la segunda línea.\");"
   ]
  },
  {
   "cell_type": "markdown",
   "id": "4530bc46",
   "metadata": {},
   "source": [
    "### Variables y Tipos de Datos\n",
    "C# es de **tipado estático**. Debes declarar el tipo de dato de una variable antes de usarla.\n",
    "\n",
    "* `string`: Texto (siempre con comillas dobles `\"\"`).\n",
    "* `int`: Números enteros (ej. 7).\n",
    "* `double` / `float`: Números decimales (ej. 18.5). `double` es el más común.\n",
    "* `bool`: Verdadero o Falso (`true` / `false`).\n",
    "\n",
    "Para unir strings, la forma moderna y preferida es la **interpolación de strings**, que usa un `$` antes de las comillas (igual que en PHP y similar a Ruby).\n",
    "\n",
    "**El truco moderno:** Puedes usar la palabra clave `var` para declarar una variable. El compilador inferirá el tipo por ti, pero la variable *sigue siendo* de tipo estático."
   ]
  },
  {
   "cell_type": "code",
   "execution_count": null,
   "id": "2d15a490",
   "metadata": {
    "vscode": {
     "languageId": "plaintext"
    }
   },
   "outputs": [],
   "source": [
    "// Declaración explícita de tipos\n",
    "string nombre = \"Franyer\";\n",
    "int semestre = 7;\n",
    "double promedio = 18.5;\n",
    "bool esEstudiante = true;\n",
    "\n",
    "// Usando interpolación de strings\n",
    "Console.WriteLine($\"Estudiante: {nombre}\");\n",
    "Console.WriteLine($\"Carrera: Ing. en Computación\");\n",
    "Console.WriteLine($\"Semestre: {semestre}\");\n",
    "\n",
    "// Usando 'var' (el compilador sabe que esto es un 'double')\n",
    "var promedioVar = 18.5;\n",
    "\n",
    "// Para depurar, podemos usar .GetType() para ver el tipo de dato\n",
    "Console.WriteLine(promedioVar.GetType());"
   ]
  },
  {
   "cell_type": "markdown",
   "id": "518c4384",
   "metadata": {},
   "source": [
    "### Colecciones (Arrays y Diccionarios)\n",
    "Las colecciones en C# también son fuertemente tipadas. Debes declarar qué tipo de datos van a contener.\n",
    "\n",
    "1.  **Array:** Una lista de tamaño fijo.\n",
    "2.  **Dictionary:** Una colección de pares clave-valor (como un Hash en Ruby o un array asociativo en PHP). Requiere `using System.Collections.Generic;`."
   ]
  },
  {
   "cell_type": "code",
   "execution_count": null,
   "id": "8a11b062",
   "metadata": {
    "vscode": {
     "languageId": "plaintext"
    }
   },
   "outputs": [],
   "source": [
    "using System.Collections.Generic; // Necesario para el Dictionary\n",
    "\n",
    "// 1. Array\n",
    "string[] lenguajes = { \"Python\", \"Java\", \"C#\", \"Go\" };\n",
    "\n",
    "Console.WriteLine($\"El lenguaje en el índice 2 es: {lenguajes[2]}\"); // Imprime 'C#'\n",
    "Console.WriteLine(\"\"); // Línea en blanco\n",
    "\n",
    "// 2. Dictionary\n",
    "// Declaramos que las claves son 'string' y los valores también son 'string'\n",
    "Dictionary<string, string> estudiante = new Dictionary<string, string>\n",
    "{\n",
    "    { \"nombre\", \"Rachel\" },\n",
    "    { \"carrera\", \"Diseño Gráfico\" }\n",
    "    // { \"semestre\", 8 } // -> Esto daría un error, porque 8 no es un 'string'\n",
    "};\n",
    "\n",
    "Console.WriteLine($\"La carrera de Rachel es: {estudiante[\"carrera\"]}\");\n",
    "Console.WriteLine(\"\");"
   ]
  },
  {
   "cell_type": "markdown",
   "id": "094c0f5d",
   "metadata": {},
   "source": [
    "### Estructuras de Control (if / else / else if)\n",
    "La sintaxis es idéntica a la de PHP (y Java/C). Se usan para tomar decisiones. Los paréntesis `()` en la condición son obligatorios."
   ]
  },
  {
   "cell_type": "markdown",
   "id": "beb98522",
   "metadata": {},
   "source": [
    "int edad = 18;\n",
    "\n",
    "if (edad >= 21)\n",
    "{\n",
    "    Console.WriteLine(\"Puedes beber en USA.\");\n",
    "}\n",
    "else if (edad >= 18)\n",
    "{\n",
    "    Console.WriteLine(\"Eres mayor de edad en Venezuela.\");\n",
    "}\n",
    "else\n",
    "{\n",
    "    Console.WriteLine(\"Eres menor de edad.\");\n",
    "}\n",
    "\n",
    "// Operador Ternario (idéntico)\n",
    "string permiso = (edad >= 18) ? \"Tiene permiso\" : \"No tiene permiso\";\n",
    "Console.WriteLine(permiso);"
   ]
  },
  {
   "cell_type": "code",
   "execution_count": null,
   "id": "45023b0b",
   "metadata": {
    "vscode": {
     "languageId": "plaintext"
    }
   },
   "outputs": [],
   "source": [
    "int edad = 18;\n",
    "\n",
    "if (edad >= 21)\n",
    "{\n",
    "    Console.WriteLine(\"Puedes beber en USA.\");\n",
    "}\n",
    "else if (edad >= 18)\n",
    "{\n",
    "    Console.WriteLine(\"Eres mayor de edad en Venezuela.\");\n",
    "}\n",
    "else\n",
    "{\n",
    "    Console.WriteLine(\"Eres menor de edad.\");\n",
    "}\n",
    "\n",
    "// Operador Ternario (idéntico)\n",
    "string permiso = (edad >= 18) ? \"Tiene permiso\" : \"No tiene permiso\";\n",
    "Console.WriteLine(permiso);"
   ]
  },
  {
   "cell_type": "markdown",
   "id": "111aa89b",
   "metadata": {},
   "source": [
    "### Bucles (Loops)\n",
    "Los bucles `for` y `foreach` son los más comunes.\n",
    "\n",
    "* `for`: Se usa cuando sabes el número de iteraciones. La sintaxis es la clásica de C.\n",
    "* `foreach`: La forma más fácil y limpia de iterar sobre cualquier colección (Array, List, Dictionary)."
   ]
  },
  {
   "cell_type": "code",
   "execution_count": null,
   "id": "40e328ee",
   "metadata": {
    "vscode": {
     "languageId": "plaintext"
    }
   },
   "outputs": [],
   "source": [
    "// Bucle 'for'\n",
    "Console.WriteLine(\"Bucle FOR:\");\n",
    "for (int i = 1; i <= 3; i++)\n",
    "{\n",
    "    Console.WriteLine($\"Número: {i}\");\n",
    "}\n",
    "\n",
    "// Bucle 'foreach' (recorriendo el array de lenguajes)\n",
    "Console.WriteLine(\"\\nBucle FOREACH:\");\n",
    "string[] lenguajes = { \"PHP\", \"Go\", \"C#\" };\n",
    "foreach (var lang in lenguajes)\n",
    "{\n",
    "    Console.WriteLine($\"- {lang}\");\n",
    "}\n",
    "\n",
    "// Foreach para un Dictionary\n",
    "Console.WriteLine(\"\\nFOREACH para un Dictionary:\");\n",
    "Dictionary<string, string> estudiante = new Dictionary<string, string>\n",
    "{\n",
    "    { \"nombre\", \"Franyer\" },\n",
    "    { \"carrera\", \"Computación\" }\n",
    "};\n",
    "\n",
    "foreach (var par in estudiante)\n",
    "{\n",
    "    Console.WriteLine($\"{par.Key} = {par.Value}\");\n",
    "}"
   ]
  },
  {
   "cell_type": "markdown",
   "id": "f82ffeae",
   "metadata": {},
   "source": [
    "### Métodos (Funciones)\n",
    "En C#, las funciones se llaman **Métodos**. Deben declarar explícitamente:\n",
    "1.  El tipo de dato que van a devolver (ej. `string`, `int`, o `void` si no devuelven nada).\n",
    "2.  El tipo de dato de cada parámetro que reciben.\n",
    "\n",
    "A diferencia de Ruby, la palabra `return` es **obligatoria** para devolver un valor."
   ]
  },
  {
   "cell_type": "code",
   "execution_count": null,
   "id": "f4fc4efc",
   "metadata": {
    "vscode": {
     "languageId": "plaintext"
    }
   },
   "outputs": [],
   "source": [
    "// Definimos un método que recibe un 'string' y devuelve un 'string'\n",
    "string Saludar(string nombre)\n",
    "{\n",
    "    // Usamos 'return' para devolver el valor\n",
    "    return $\"Hola, {nombre}, bienvenido.\";\n",
    "}\n",
    "\n",
    "// Lo llamamos\n",
    "string saludo = Saludar(\"Franyer\");\n",
    "Console.WriteLine(saludo);\n",
    "Console.WriteLine(\"\");\n",
    "\n",
    "\n",
    "// Método que recibe dos 'int' y devuelve un 'int'\n",
    "int Sumar(int a, int b)\n",
    "{\n",
    "    return a + b;\n",
    "}\n",
    "\n",
    "int resultado = Sumar(20, 10);\n",
    "Console.WriteLine($\"El resultado de la suma es: {resultado}\");"
   ]
  }
 ],
 "metadata": {
  "language_info": {
   "name": "python"
  }
 },
 "nbformat": 4,
 "nbformat_minor": 5
}
