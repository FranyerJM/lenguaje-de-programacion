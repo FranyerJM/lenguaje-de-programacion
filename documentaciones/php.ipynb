{
 "cells": [
  {
   "cell_type": "markdown",
   "id": "6c570bde",
   "metadata": {},
   "source": [
    "# Documentación de PHP (by Franyer Marin, C.I: 32.293.396)\n",
    "\n",
    "\n",
    "## 1. Breve Historia, Usos y Poder de PHP\n",
    "\n",
    "### Historia\n",
    "PHP fue creado en 1994 por **Rasmus Lerdorf** como un conjunto de scripts para rastrear las visitas a su currículum en línea. Originalmente significaba **\"Personal Home Page\"** (Página de Inicio Personal).\n",
    "\n",
    "Debido a su popularidad, creció rápidamente hasta convertirse en un lenguaje de programación completo del lado del servidor. Hoy, su nombre es un acrónimo recursivo: **\"PHP: Hypertext Preprocessor\"** (Preprocesador de Hipertexto).\n",
    "\n",
    "Ha evolucionado masivamente a lo largo de los años, especialmente con las versiones 7 y 8, que mejoraron drásticamente su rendimiento, sintaxis y características de seguridad, convirtiéndolo en un lenguaje moderno y robusto.\n",
    "\n",
    "### Usos Comunes\n",
    "PHP es, casi exclusivamente, un lenguaje \"backend\" (del lado del servidor). Su trabajo es generar páginas web dinámicas antes de que estas lleguen a tu navegador.\n",
    "\n",
    "Se usa para:\n",
    "* Crear sitios web dinámicos (que cambian según el usuario o la base de datos).\n",
    "* Interactuar con bases de datos (especialmente MySQL/MariaDB).\n",
    "* Manejar formularios, procesar datos de usuarios e iniciar sesiones.\n",
    "* Es la tecnología detrás de sistemas de manejo de contenido (CMS) masivos como **WordPress** (que potencia más del 40% de todo internet), Drupal y Joomla.\n",
    "* Es la base de frameworks modernos y potentes como **Laravel** y **Symfony**, usados para construir aplicaciones web complejas.\n",
    "\n",
    "### El Poder de PHP\n",
    "A pesar de tener décadas, el poder de PHP radica en:\n",
    "1.  **Ubicuidad:** Está instalado en la gran mayoría de los servidores web del mundo. Encontrar un hosting para PHP es trivial y barato.\n",
    "2.  **Facilidad de Aprendizaje:** Su sintaxis es flexible y muy fácil de aprender para principiantes. El ciclo de \"escribir código -> guardar -> recargar el navegador\" es muy rápido.\n",
    "3.  **Ecosistema Gigante:** Gracias a **Composer** (su manejador de paquetes) y Packagist (su repositorio), tiene una biblioteca inmensa de herramientas listas para usar.\n",
    "4.  **Rendimiento:** El PHP moderno (versiones 7 y 8+) es extremadamente rápido, compitiendo directamente con otros lenguajes de backend como Node.js o Python en muchas tareas.\n",
    "5.  **Comunidad:** Tiene una de las comunidades de desarrolladores más grandes del mundo, lo que significa que casi cualquier problema que tengas ya ha sido resuelto y documentado."
   ]
  },
  {
   "cell_type": "markdown",
   "id": "332a119c",
   "metadata": {},
   "source": [
    "## 2. Fundamentos Básicos de PHP\n",
    "\n",
    "Vamos con el codigo:\n",
    "\n",
    "### \"Hola Mundo\" y `echo`\n",
    "Para mostrar cualquier salida \"print\" (texto, números, etc.), usamos el comando `echo`."
   ]
  },
  {
   "cell_type": "code",
   "execution_count": null,
   "id": "a320e0ba",
   "metadata": {},
   "outputs": [],
   "source": [
    "echo \"Hola Mundo!\\n\";\n",
    "echo \"Esta es la segunda línea.\";\n",
    "// \\n es un carácter especial para \"nueva línea\""
   ]
  },
  {
   "cell_type": "markdown",
   "id": "76895e3d",
   "metadata": {},
   "source": [
    "### Variables y Tipos de Datos\n",
    "Las variables en PHP siempre comienzan con el signo de dólar (`$`). PHP es un lenguaje de \"tipado dinámico\", lo que significa que no necesitas declarar el tipo de dato; el lenguaje lo infiere, asi como pyton.\n",
    "\n",
    "* `string`: Texto (entre comillas simples o dobles).\n",
    "* `int`: Números enteros.\n",
    "* `float` (o `double`): Números decimales.\n",
    "* `bool`: Verdadero o Falso (`true` / `false`).\n",
    "\n",
    "Para concatenar (unir) strings, usamos el punto (`.`)."
   ]
  },
  {
   "cell_type": "code",
   "execution_count": null,
   "id": "30b44931",
   "metadata": {},
   "outputs": [],
   "source": [
    "$nombre = \"Franyer\"; // String (con comillas dobles)\n",
    "$carrera = 'Ing. en Computación'; // String (con comillas simples)\n",
    "$semestre = 7;       // Integer\n",
    "$promedio = 15.6;    // Float\n",
    "$esEstudiante = true; // Boolean\n",
    "\n",
    "echo \"Estudiante: \" . $nombre . \"\\n\";\n",
    "echo \"Carrera: \" . $carrera . \"\\n\";\n",
    "echo \"Semestre: \" . $semestre . \"\\n\";\n",
    "\n",
    "// var_dump() es una función vital para depurar.\n",
    "// Nos dice el tipo de dato Y el valor.\n",
    "var_dump($promedio);\n",
    "var_dump($esEstudiante);"
   ]
  },
  {
   "cell_type": "markdown",
   "id": "f4cfc44f",
   "metadata": {},
   "source": [
    "### Arrays (Arreglos)\n",
    "Los arrays son la estructura de datos más importante de PHP. Se usan para guardar colecciones de valores. Hay dos tipos principales:\n",
    "\n",
    "1.  **Indexados:** Usan índices numéricos (empiezan en 0).\n",
    "2.  **Asociativos:** Usan \"claves\" (strings) para nombrar los valores (como un diccionario en Python o un objeto en JS)."
   ]
  },
  {
   "cell_type": "code",
   "execution_count": null,
   "id": "536e8058",
   "metadata": {},
   "outputs": [],
   "source": [
    "// 1. Array Indexado (la forma moderna con [])\n",
    "$lenguajes = [\"Python\", \"Java\", \"Rust\", \"Go\", \"PHP\"];\n",
    "\n",
    "echo \"El lenguaje en el índice 2 es: \" . $lenguajes[2] . \"\\n\\n\"; // Imprime 'Rust'\n",
    "\n",
    "// 2. Array Asociativo\n",
    "$estudiante = [\n",
    "    \"nombre\" => \"Rachel\",\n",
    "    \"carrera\" => \"Diseño Gráfico\",\n",
    "    \"semestre\" => 8,\n",
    "    \"activa\" => true\n",
    "];\n",
    "\n",
    "echo \"La carrera de \" . $estudiante[\"nombre\"] .  \"es: \" . $estudiante[\"carrera\"] . \"\\n\\n\";\n",
    "\n",
    "// print_r es una función muy útil para imprimir arrays de forma legible\n",
    "echo \"Contenido del array estudiante:\\n\";\n",
    "print_r($estudiante);"
   ]
  },
  {
   "cell_type": "markdown",
   "id": "576334e7",
   "metadata": {},
   "source": [
    "### Estructuras de Control (if / else / elseif)\n",
    "Se usan para tomar decisiones en el código."
   ]
  },
  {
   "cell_type": "code",
   "execution_count": null,
   "id": "b1bd7ab3",
   "metadata": {},
   "outputs": [],
   "source": [
    "$edad = 18;\n",
    "\n",
    "if ($edad >= 21) {\n",
    "    echo \"Puedes beber en USA.\\n\";\n",
    "} elseif ($edad >= 18) {\n",
    "    echo \"Eres mayor de edad en Venezuela.\\n\";\n",
    "} else {\n",
    "    echo \"Eres menor de edad.\\n\";\n",
    "}\n",
    "\n",
    "// Operador Ternario (una forma corta de if/else)\n",
    "$permiso = ($edad >= 18) ? \"Tiene permiso\" : \"No tiene permiso\";\n",
    "echo $permiso;"
   ]
  },
  {
   "cell_type": "markdown",
   "id": "697766d1",
   "metadata": {},
   "source": [
    "### Bucles (Loops)\n",
    "Se usan para repetir tareas.\n",
    "\n",
    "* `for`: Cuando sabes exactamente cuántas veces quieres repetir algo.\n",
    "* `foreach`: La forma más fácil y común de recorrer cada elemento de un array.\n",
    "* `while`: Mientras una condición sea verdadera, se repite."
   ]
  },
  {
   "cell_type": "code",
   "execution_count": null,
   "id": "492b9a20",
   "metadata": {},
   "outputs": [],
   "source": [
    "// Bucle 'for'\n",
    "echo \"Bucle FOR:\\n\";\n",
    "for ($i = 1; $i <= 3; $i++) {\n",
    "    echo \"Número: \" . $i . \"\\n\";\n",
    "}\n",
    "\n",
    "// Bucle 'foreach' (recorriendo el array de lenguajes)\n",
    "echo \"\\nBucle FOREACH (simple):\\n\";\n",
    "$lenguajes = [\"PHP\", \"Go\", \"Rust\"];\n",
    "foreach ($lenguajes as $lang) {\n",
    "    echo \"- \" . $lang . \"\\n\";\n",
    "}\n",
    "\n",
    "// Foreach con clave y valor (recorriendo el array de estudiante)\n",
    "echo \"\\nFOREACH (clave => valor):\\n\";\n",
    "$estudiante = [\"nombre\" => \"Franyer\", \"carrera\" => \"Computación\"];\n",
    "foreach ($estudiante as $clave => $valor) {\n",
    "    echo $clave . \" = \" . $valor . \"\\n\";\n",
    "}"
   ]
  },
  {
   "cell_type": "markdown",
   "id": "8ac4fa17",
   "metadata": {},
   "source": [
    "### Funciones\n",
    "Las funciones agrupan un bloque de código que puedes reutilizar. Puedes pasarles parámetros (datos) y pueden devolver (`return`) un valor.\n",
    "\n",
    "En PHP moderno (7+), es una **excelente práctica** declarar los tipos de datos de los parámetros y el tipo de dato que devuelve la función."
   ]
  },
  {
   "cell_type": "code",
   "execution_count": null,
   "id": "62996914",
   "metadata": {},
   "outputs": [],
   "source": [
    "// Definimos una función simple\n",
    "function saludar($nombre) {\n",
    "    return \"Hola, \" . $nombre . \", bienvenido.\";\n",
    "}\n",
    "\n",
    "// La llamamos\n",
    "$saludo = saludar(\"Franyer\");\n",
    "echo $saludo . \"\\n\\n\";\n",
    "\n",
    "\n",
    "// Una función con \"Type Hinting\" (tipado)\n",
    "// Recibe dos 'int' y DEBE devolver un 'int'\n",
    "function sumar(int $a, int $b): int {\n",
    "    return $a + $b;\n",
    "}\n",
    "\n",
    "$resultado = sumar(20, 10);\n",
    "echo \"El resultado de la suma es: \" . $resultado . \"\\n\";\n",
    "\n",
    "// Si intentas pasar un tipo de dato incorrecto, PHP (moderno) dará un error.\n",
    "// var_dump(sumar(5.5, 10)); // -> Esto daría un error"
   ]
  }
 ],
 "metadata": {
  "kernelspec": {
   "display_name": "php-jupyter",
   "language": "python",
   "name": "python3"
  },
  "language_info": {
   "name": "python",
   "version": "undefined.undefined.undefined"
  }
 },
 "nbformat": 4,
 "nbformat_minor": 5
}
